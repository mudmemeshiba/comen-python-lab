{
 "cells": [
  {
   "cell_type": "code",
   "execution_count": 1,
   "metadata": {},
   "outputs": [],
   "source": [
    "#1\n",
    "def printit(m, n):\n",
    "    if m == n:\n",
    "        return str(m)\n",
    "    return str(m) + printit(m+1,n) + str(m)"
   ]
  },
  {
   "cell_type": "code",
   "execution_count": 3,
   "metadata": {},
   "outputs": [],
   "source": [
    "#2\n",
    "def count_vowel(word):\n",
    "    if len(word) == 0:\n",
    "        return 0\n",
    "    if word[0] in ['a', 'e' ,'i', 'o', 'u', 'A', 'E', 'I', 'O', 'U']:\n",
    "        return 1 + count_vowel(word[1:])\n",
    "    return count_vowel(word[1:])"
   ]
  },
  {
   "cell_type": "code",
   "execution_count": 7,
   "metadata": {},
   "outputs": [
    {
     "data": {
      "text/plain": [
       "'x\\nxx\\nxxx\\nxxxx\\nxxxxx'"
      ]
     },
     "execution_count": 7,
     "metadata": {},
     "output_type": "execute_result"
    }
   ],
   "source": [
    "#3\n",
    "def tri(n):\n",
    "    if n == 1:\n",
    "        return \"x\"*n\n",
    "    return tri(n-1) + \"\\n\" + \"x\"*n\n",
    "\n",
    "tri(5)"
   ]
  },
  {
   "cell_type": "code",
   "execution_count": 5,
   "metadata": {},
   "outputs": [
    {
     "name": "stdout",
     "output_type": "stream",
     "text": [
      "3\n"
     ]
    }
   ],
   "source": [
    "#4\n",
    "def count(word, ch, result):\n",
    "    if len(word) == 0:\n",
    "        return result\n",
    "    if word[0] == ch:\n",
    "        return 1 + count(word[1:], ch, result)\n",
    "    return count(word[1:], ch, result)\n",
    "\n",
    "word = input()\n",
    "ch = input()\n",
    "print(count(word, ch, 0))"
   ]
  },
  {
   "cell_type": "code",
   "execution_count": 6,
   "metadata": {},
   "outputs": [],
   "source": [
    "#5\n",
    "def divnums(n, d):\n",
    "    if n == 0:\n",
    "        return \"\"\n",
    "    if n % d == 0:\n",
    "        return str(divnums(n-1, d)) + str(n) + \" \"\n",
    "    return str(divnums(n-1, d))"
   ]
  },
  {
   "cell_type": "code",
   "execution_count": 9,
   "metadata": {},
   "outputs": [],
   "source": [
    "#6\n",
    "def reverse_string(s):\n",
    "    if len(s) == 1:\n",
    "        return s\n",
    "    return s[len(s)-1] + reverse_string(s[:len(s)-1])"
   ]
  },
  {
   "cell_type": "code",
   "execution_count": 10,
   "metadata": {},
   "outputs": [],
   "source": [
    "def is_palindrome(word):\n",
    "    if len(word) == 1 or word == '':\n",
    "        return True\n",
    "    if word[0] == word[len(word)-1]:\n",
    "        return is_palindrome(word[1:len(word)-1])\n",
    "    return False"
   ]
  },
  {
   "cell_type": "code",
   "execution_count": 11,
   "metadata": {},
   "outputs": [],
   "source": [
    "#8\n",
    "def count_even(lst):\n",
    "    if len(lst) == 0:\n",
    "        return 0\n",
    "    if len(lst) == 1 and lst[0] % 2 == 0:\n",
    "        return 1\n",
    "    if lst[0] % 2 == 0:\n",
    "        return 1 + count_even(lst[1:])\n",
    "    return count_even(lst[1:])"
   ]
  },
  {
   "cell_type": "code",
   "execution_count": null,
   "metadata": {},
   "outputs": [],
   "source": [
    "#9\n",
    "def in_list(lst, x):\n",
    "    if len(lst) == 0:\n",
    "        return False\n",
    "    if lst[0] == x:\n",
    "        return True\n",
    "    return in_list(lst[1:], x)"
   ]
  },
  {
   "cell_type": "code",
   "execution_count": 1,
   "metadata": {},
   "outputs": [],
   "source": [
    "#10\n",
    "def power(n, k):\n",
    "    if k == 0:\n",
    "        return 1\n",
    "    return n * power(n, k-1)"
   ]
  },
  {
   "cell_type": "code",
   "execution_count": 8,
   "metadata": {},
   "outputs": [
    {
     "name": "stdout",
     "output_type": "stream",
     "text": [
      "15\n"
     ]
    }
   ],
   "source": [
    "lst = [1,2,3,4,5]\n",
    "\n",
    "def recur_sum(lst):\n",
    "    if len(lst) == 0:\n",
    "        return 0\n",
    "    if len(lst) == 1:\n",
    "        return lst[0]\n",
    "    return lst[0] + recur_sum(lst[1:])\n",
    "print(recur_sum(lst))"
   ]
  },
  {
   "cell_type": "code",
   "execution_count": 9,
   "metadata": {},
   "outputs": [
    {
     "name": "stdout",
     "output_type": "stream",
     "text": [
      "55\n"
     ]
    }
   ],
   "source": [
    "def recur_sum_num(n):\n",
    "    if n <= 1:\n",
    "        return n\n",
    "    return n + recur_sum_num(n-1)\n",
    "\n",
    "print(recur_sum_num(10))"
   ]
  }
 ],
 "metadata": {
  "kernelspec": {
   "display_name": "Python 3",
   "language": "python",
   "name": "python3"
  },
  "language_info": {
   "codemirror_mode": {
    "name": "ipython",
    "version": 3
   },
   "file_extension": ".py",
   "mimetype": "text/x-python",
   "name": "python",
   "nbconvert_exporter": "python",
   "pygments_lexer": "ipython3",
   "version": "3.11.2"
  },
  "orig_nbformat": 4
 },
 "nbformat": 4,
 "nbformat_minor": 2
}
